{
 "cells": [
  {
   "cell_type": "code",
   "execution_count": 2,
   "id": "84b8f31b",
   "metadata": {},
   "outputs": [
    {
     "name": "stdout",
     "output_type": "stream",
     "text": [
      "TkAgg\n"
     ]
    }
   ],
   "source": [
    "from random import randint\n",
    "import os\n",
    "import cv2\n",
    "from numpy.lib.type_check import imag\n",
    "import side\n",
    "from PIL import ImageGrab\n",
    "import PIL\n",
    "import pyautogui as auto\n",
    "import torch\n",
    "#import tictactoe_ops as game\n",
    "from pickle import TRUE\n",
    "import random\n",
    "import numpy as np\n",
    "import torch\n",
    "import torch as t\n",
    "from torch import nn\n",
    "from numpy.lib.function_base import average, copy\n",
    "import torch\n",
    "from torch.nn.parameter import Parameter\n",
    "from torch import nn,optim\n",
    "from torch.functional import Tensor\n",
    "from torch.nn import functional as F\n",
    "import numpy as np\n",
    "import random\n",
    "import copy\n",
    "from torchvision import transforms\n",
    "import n\n",
    "import PIL_show\n",
    "import random\n",
    "import time\n",
    "import math\n",
    "#print (torch.cuda.is_available())\n",
    "import matplotlib\n",
    "import matplotlib.pyplot as plt\n",
    "import cv2\n",
    "'''\n",
    "\n",
    "a=[]\n",
    "for i in range(10):\n",
    "    for j in range(1,100):\n",
    "        if (6290-j*i)%j==0:\n",
    "            a.append([i,j])\n",
    "print(a)\n",
    "i=0\n",
    "while i !=10:\n",
    "    print(i)\n",
    "    r=randint(0,1)\n",
    "    print(r)\n",
    "    if r==1:\n",
    "        i+=1\n",
    "        #print(i)\n",
    "'''\n",
    "i_p=[]\n",
    "j_l=[]\n",
    "'''\n",
    "for i in img_list:\n",
    "    i_p.append(i)\n",
    "#print(i_p)\n",
    "for j in lab_list:\n",
    "    j_l.append(j)\n",
    "    '''\n",
    "def label(path):\n",
    "    fi=[]\n",
    "    img_list=os.listdir(path) \n",
    "    for i in img_list:\n",
    "        f = open(f'{path}{i}', \"r\")\n",
    "        fi.append(float(f.readlines()[0]))\n",
    "    return fi\n",
    "\n",
    "def Image(path):\n",
    "    I=[]\n",
    "    distance_load=[]\n",
    "    img_list=os.listdir(path) \n",
    "    for i in img_list:\n",
    "        #print(i)\n",
    "        f =  cv2.imread(f'{path+i}')\n",
    "        center1=side.jump_peo(f)\n",
    "        center2=PIL_show.target_peo(f)\n",
    "        pingfang1=(center2[0]-center1[0])**2\n",
    "        pingfang2=(center2[1]-center1[1])**2\n",
    "        distance=math.sqrt(pingfang1+pingfang2)\n",
    "        distance_load.append(distance)\n",
    "\n",
    "    #print(distance_load)\n",
    "    return distance_load\n",
    "\n",
    "p_path = \"D:/vs project/dump_a_dump/photos/\" \n",
    "l_path=\"D:/vs project/dump_a_dump/labels/\" \n",
    "x=np.array(label(l_path)).reshape(1,-1)#时间数据数组\n",
    "file=open(\"distance.txt\", \"r\")\n",
    "y =np.array(Image(p_path) ).reshape(1,-1)\n",
    "#print(str)\n",
    "\n",
    "#print(x.shape)\n",
    "#print(y)\n",
    "matplotlib.use ('TkAgg')\n",
    "plt.scatter(x,y)\n",
    "\n",
    "plt.show()\n",
    "#params=np.polyfit(x,y,)\n",
    "print(plt.get_backend())\n",
    "\n",
    "\n",
    "#print(distance)\n",
    "\n",
    "\n",
    "\n",
    "\n",
    "\n",
    "\n",
    "\n",
    "\n",
    "\n",
    "\n"
   ]
  },
  {
   "cell_type": "code",
   "execution_count": 1,
   "id": "d13909b7",
   "metadata": {},
   "outputs": [
    {
     "ename": "NameError",
     "evalue": "name 'np' is not defined",
     "output_type": "error",
     "traceback": [
      "\u001b[1;31m---------------------------------------------------------------------------\u001b[0m",
      "\u001b[1;31mNameError\u001b[0m                                 Traceback (most recent call last)",
      "\u001b[1;32m~\\AppData\\Local\\Temp/ipykernel_67452/3430852574.py\u001b[0m in \u001b[0;36m<module>\u001b[1;34m\u001b[0m\n\u001b[1;32m----> 1\u001b[1;33m \u001b[0mparams\u001b[0m\u001b[1;33m=\u001b[0m\u001b[0mnp\u001b[0m\u001b[1;33m.\u001b[0m\u001b[0mpolyfit\u001b[0m\u001b[1;33m(\u001b[0m\u001b[0mx\u001b[0m\u001b[1;33m,\u001b[0m\u001b[0my\u001b[0m\u001b[1;33m,\u001b[0m\u001b[1;33m)\u001b[0m\u001b[1;33m\u001b[0m\u001b[1;33m\u001b[0m\u001b[0m\n\u001b[0m\u001b[0;32m      2\u001b[0m \u001b[0mparams\u001b[0m\u001b[1;33m\u001b[0m\u001b[1;33m\u001b[0m\u001b[0m\n",
      "\u001b[1;31mNameError\u001b[0m: name 'np' is not defined"
     ]
    }
   ],
   "source": [
    "params=np.polyfit(x,y,)\n",
    "params\n"
   ]
  },
  {
   "cell_type": "code",
   "execution_count": null,
   "id": "6b66e39f",
   "metadata": {},
   "outputs": [],
   "source": [
    "param_fun"
   ]
  }
 ],
 "metadata": {
  "kernelspec": {
   "display_name": "Python 3 (ipykernel)",
   "language": "python",
   "name": "python3"
  },
  "language_info": {
   "codemirror_mode": {
    "name": "ipython",
    "version": 3
   },
   "file_extension": ".py",
   "mimetype": "text/x-python",
   "name": "python",
   "nbconvert_exporter": "python",
   "pygments_lexer": "ipython3",
   "version": "3.9.7"
  }
 },
 "nbformat": 4,
 "nbformat_minor": 5
}
